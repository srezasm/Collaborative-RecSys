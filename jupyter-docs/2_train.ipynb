{
 "cells": [
  {
   "cell_type": "markdown",
   "metadata": {},
   "source": [
    "# PyTorch Model"
   ]
  },
  {
   "cell_type": "code",
   "execution_count": 1,
   "metadata": {},
   "outputs": [],
   "source": [
    "import torch\n",
    "import torch.nn as nn\n",
    "import numpy as np\n",
    "import math\n",
    "\n",
    "from settings import *\n",
    "from utils import load_np_arr, save_tensor"
   ]
  },
  {
   "cell_type": "code",
   "execution_count": 2,
   "metadata": {},
   "outputs": [
    {
     "name": "stdout",
     "output_type": "stream",
     "text": [
      "Using cuda device\n"
     ]
    }
   ],
   "source": [
    "dev = (\n",
    "    \"cuda\"\n",
    "    if torch.cuda.is_available()\n",
    "    else \"mps\"\n",
    "    if torch.backends.mps.is_available()\n",
    "    else \"cpu\"\n",
    ")\n",
    "\n",
    "print(f\"Using {dev} device\")"
   ]
  },
  {
   "cell_type": "markdown",
   "metadata": {},
   "source": [
    "## Data preparation"
   ]
  },
  {
   "cell_type": "markdown",
   "metadata": {},
   "source": [
    "Load and convert the data into tensors"
   ]
  },
  {
   "cell_type": "code",
   "execution_count": 3,
   "metadata": {},
   "outputs": [],
   "source": [
    "Y = load_np_arr(Y_FILE_NAME)\n",
    "R = load_np_arr(R_FILE_NAME)\n",
    "mu = load_np_arr(MU_FILE_NAME)"
   ]
  },
  {
   "cell_type": "markdown",
   "metadata": {},
   "source": [
    "Data info"
   ]
  },
  {
   "cell_type": "code",
   "execution_count": 4,
   "metadata": {},
   "outputs": [
    {
     "name": "stdout",
     "output_type": "stream",
     "text": [
      "Num. features: 100\n",
      "Num. movies:   9724\n",
      "Num. users:    610\n"
     ]
    }
   ],
   "source": [
    "num_features = 100\n",
    "num_movies = R.shape[0]\n",
    "num_users = R.shape[1]\n",
    "\n",
    "print('Num. features:', num_features)\n",
    "print('Num. movies:  ', num_movies)\n",
    "print('Num. users:   ', num_users)"
   ]
  },
  {
   "cell_type": "markdown",
   "metadata": {},
   "source": [
    "Manually rate some movies by their id"
   ]
  },
  {
   "cell_type": "code",
   "execution_count": 5,
   "metadata": {},
   "outputs": [],
   "source": [
    "my_ratings = np.zeros(num_movies)\n",
    "\n",
    "my_ratings[314] = 5 # Forrest Gump\n",
    "my_ratings[461] = 5 # Schindler's List\n",
    "\n",
    "my_ratings[904] = 5 # 12 Angry Men\n",
    "my_ratings[7315] = 5 # 12 Angry Men too! we rate them both just in case\n",
    "\n",
    "my_ratings[3635] = 5 # A Beautiful Mind (2001)\n",
    "my_ratings[8240] = 5 # Rush (2013)\n",
    "my_ratings[8448] = 5 # Whiplash (2014)\n",
    "my_ratings[9363] = 4 # Your Name. (2016)\n",
    "\n",
    "my_ratings[7675] = 0.5 # The Avengers (2012)\n",
    "my_ratings[8668] = 0.5 # Avengers: Age of Ultron\n",
    "my_ratings[8675] = 0.5 # Avengers: Infinity War - Part I\n",
    "my_ratings[1985] = 0.5 # Superman\n",
    "my_ratings[1986] = 0.5 # Superman II\n",
    "my_ratings[1987] = 0.5 # Superman III\n",
    "my_ratings[1988] = 0.5 # Superman IV: The Quest for Peace"
   ]
  },
  {
   "cell_type": "markdown",
   "metadata": {},
   "source": [
    "Append `my_ratings` to the `R` amd `Y`"
   ]
  },
  {
   "cell_type": "code",
   "execution_count": 6,
   "metadata": {},
   "outputs": [],
   "source": [
    "# Push the normalized my_ratings to Y\n",
    "Y = np.c_[my_ratings - mu.squeeze(), Y]\n",
    "\n",
    "# Push the binary my_ratings to R\n",
    "R = np.c_[(my_ratings != 0).astype(int), R]"
   ]
  },
  {
   "cell_type": "markdown",
   "metadata": {},
   "source": [
    "Increment `num_users` after appending new user"
   ]
  },
  {
   "cell_type": "code",
   "execution_count": 7,
   "metadata": {},
   "outputs": [],
   "source": [
    "num_users += 1"
   ]
  },
  {
   "cell_type": "markdown",
   "metadata": {},
   "source": [
    "## Collaborative filtering cost function"
   ]
  },
  {
   "cell_type": "markdown",
   "metadata": {},
   "source": [
    "|General <br />  Notation  | Description                                                                | Python (if any) |\n",
    "|:-------------------------|:---------------------------------------------------------------------------|-----------------|\n",
    "| $r(i,j)$                 | scalar; = 1  if user j rated movie i  = 0  otherwise                       |                 |\n",
    "| $y(i,j)$                 | scalar; = rating given by user j on movie  i    (if r(i,j) = 1 is defined) |                 |\n",
    "| $\\mathbf{w}^{(j)}$       | vector; parameters for user j                                              |                 |\n",
    "| $b^{(j)}$                | scalar; parameter for user j                                               |                 |\n",
    "| $\\mathbf{x}^{(i)}$       | vector; feature ratings for movie i                                        |                 |     \n",
    "| $n_m$                    | number of movies                                                           | num_movies      |\n",
    "| $n_u$                    | number of users                                                            | num_users       |\n",
    "| $n$                      | number of features                                                         | num_features    |\n",
    "| $\\mathbf{X}$             | matrix of vectors $\\mathbf{x}^{(i)}$                                       | X               |\n",
    "| $\\mathbf{W}$             | matrix of vectors $\\mathbf{w}^{(j)}$                                       | W               |\n",
    "| $\\mathbf{b}$             | vector of bias parameters $b^{(j)}$                                        | b               |\n",
    "| $\\mathbf{R}$             | matrix of elements $r(i,j)$                                                | R               |"
   ]
  },
  {
   "cell_type": "markdown",
   "metadata": {},
   "source": [
    "The collaborative filtering cost function is given by\n",
    "\n",
    "$$\n",
    "J({\\mathbf{x}^{(0)},\\dots,\\mathbf{x}^{(n_m-1)},\\mathbf{w}^{(0)},b^{(0)},\\dots,\\mathbf{w}^{(n_u-1)},b^{(n_u-1)}}) = \\left[\\frac{1}{2}\\sum_{(i,j):r(i,j)=1} (\\mathbf{w}^{(j)} \\cdot \\mathbf{x}^{(i)} + b^{(j)} - y^{(i,j)})^2 \\right] + \\underbrace{\\left[\\frac{\\lambda}{2} \\sum^{n_u-1}_{j=0} \\sum^{n-1}_{k=0} (\\mathbf{w}^{(j)}_k)^2 + \\frac{\\lambda}{2} \\sum^{n_m-1}_{i=0} \\sum^{n-1}_{k=0} (\\mathbf{x}^{(i)}_k)^2 \\right]}_{\\text{regularization}}\n",
    "$$\n",
    "\n",
    "The first summation in (1) is \"for all $i$, $j$ where $r(i,j)$ equals $1$\" and could be written:\n",
    "\n",
    "$$\n",
    "= \\left[ \\frac{1}{2}\\sum_{j=0}^{n_u-1} \\sum_{i=0}^{n_m-1}r(i,j)*(\\mathbf{w}^{(j)} \\cdot \\mathbf{x}^{(i)} + b^{(j)} - y^{(i,j)})^2 \\right] + \\text{regularization}\n",
    "$$"
   ]
  },
  {
   "cell_type": "code",
   "execution_count": 8,
   "metadata": {},
   "outputs": [],
   "source": [
    "def cofi_cost_func(X: torch.Tensor, W: torch.Tensor, b: torch.Tensor,\n",
    "                   Y: torch.Tensor, R: torch.Tensor, lambda_: torch.float) -> torch.float:\n",
    "\n",
    "    j = torch.matmul(X, W.T).add(b).sub(Y).mul(R).pow(2).sum().mul(0.5)\n",
    "    reg_val = (lambda_ / 2) * (X.pow(2).sum() + W.pow(2).sum())\n",
    "    return j + reg_val"
   ]
  },
  {
   "cell_type": "markdown",
   "metadata": {},
   "source": [
    "## Model"
   ]
  },
  {
   "cell_type": "markdown",
   "metadata": {},
   "source": [
    "Convert `R` and `Y` to tensors"
   ]
  },
  {
   "cell_type": "code",
   "execution_count": 9,
   "metadata": {},
   "outputs": [],
   "source": [
    "Y = torch.tensor(Y, device=dev)\n",
    "R = torch.tensor(R, device=dev)"
   ]
  },
  {
   "cell_type": "markdown",
   "metadata": {},
   "source": [
    "Create and initialize parameters"
   ]
  },
  {
   "cell_type": "code",
   "execution_count": 10,
   "metadata": {},
   "outputs": [
    {
     "name": "stdout",
     "output_type": "stream",
     "text": [
      "Initial loss: 38968.55409818531\n"
     ]
    }
   ],
   "source": [
    "X = nn.Parameter(\n",
    "    torch.Tensor(num_movies, num_features).to(dev)\n",
    ")\n",
    "W = nn.Parameter(\n",
    "    torch.Tensor(num_users, num_features).to(dev)\n",
    ")\n",
    "b = nn.Parameter(\n",
    "    torch.Tensor(1, num_users).to(dev)\n",
    ")\n",
    "\n",
    "\n",
    "# Initialize parameters\n",
    "nn.init.kaiming_uniform_(X, a=10).to(dev)\n",
    "nn.init.kaiming_uniform_(W, a=10).to(dev)\n",
    "fan_in, _ = nn.init._calculate_fan_in_and_fan_out(W)\n",
    "bound = 1 / math.sqrt(fan_in)\n",
    "nn.init.uniform_(b, -bound, bound).to(dev)\n",
    "\n",
    "print(f'Initial loss: {cofi_cost_func(X, W, b, Y, R, lambda_=1)}')"
   ]
  },
  {
   "cell_type": "markdown",
   "metadata": {},
   "source": [
    "Create optimizer"
   ]
  },
  {
   "cell_type": "code",
   "execution_count": 11,
   "metadata": {},
   "outputs": [],
   "source": [
    "optimizer = torch.optim.Adam(params=[X, W, b], lr=1e-4)"
   ]
  },
  {
   "cell_type": "markdown",
   "metadata": {},
   "source": [
    "Training loop"
   ]
  },
  {
   "cell_type": "code",
   "execution_count": 12,
   "metadata": {},
   "outputs": [
    {
     "name": "stdout",
     "output_type": "stream",
     "text": [
      "Epoch    Loss\n",
      " 1000    19545.25860\n",
      " 2000    9534.07339\n",
      " 3000    6375.19280\n",
      " 4000    5215.38281\n",
      " 5000    4694.91474\n",
      " 6000    4415.83765\n",
      " 7000    4248.21838\n",
      " 8000    4141.17938\n",
      " 9000    4069.84808\n",
      "10000    4020.70026\n",
      "CPU times: user 2min 11s, sys: 1min 17s, total: 3min 29s\n",
      "Wall time: 3min 29s\n"
     ]
    }
   ],
   "source": [
    "%%time\n",
    "\n",
    "epochs = 10001\n",
    "lambda_ = 1\n",
    "\n",
    "print('Epoch    Loss')\n",
    "\n",
    "for epoch in range(1, epochs):\n",
    "    cost_val = cofi_cost_func(X, W, b, Y, R, lambda_)\n",
    "\n",
    "    optimizer.zero_grad()\n",
    "    cost_val.backward()\n",
    "\n",
    "    optimizer.step()\n",
    "\n",
    "    if epoch % 1000 == 0:\n",
    "        print(f'{epoch:5}    {cost_val:.5f}')"
   ]
  },
  {
   "cell_type": "markdown",
   "metadata": {},
   "source": [
    "Save the parameters"
   ]
  },
  {
   "cell_type": "code",
   "execution_count": 13,
   "metadata": {},
   "outputs": [
    {
     "name": "stdout",
     "output_type": "stream",
     "text": [
      "Saved tensor in ./cache/W.pt\n",
      "Saved tensor in ./cache/X.pt\n",
      "Saved tensor in ./cache/b.pt\n"
     ]
    }
   ],
   "source": [
    "print(save_tensor(W, W_FILE_NAME))\n",
    "print(save_tensor(X, X_FILE_NAME))\n",
    "print(save_tensor(b, B_FILE_NAME))"
   ]
  },
  {
   "cell_type": "markdown",
   "metadata": {},
   "source": [
    "## Inference"
   ]
  },
  {
   "cell_type": "markdown",
   "metadata": {},
   "source": [
    "Convert parameters to numpy array"
   ]
  },
  {
   "cell_type": "code",
   "execution_count": 14,
   "metadata": {},
   "outputs": [],
   "source": [
    "X = X.cpu().detach().numpy()\n",
    "W = W.cpu().detach().numpy()\n",
    "b = b.cpu().detach().numpy()"
   ]
  },
  {
   "cell_type": "markdown",
   "metadata": {},
   "source": [
    "Load movies.csv to extract the movie titles for inference"
   ]
  },
  {
   "cell_type": "code",
   "execution_count": 15,
   "metadata": {},
   "outputs": [],
   "source": [
    "import pandas as pd\n",
    "movies_df = pd.read_csv(MOVIES_CSV_FILE, header=0,  delimiter=',', quotechar='\"')"
   ]
  },
  {
   "cell_type": "markdown",
   "metadata": {},
   "source": [
    "Perform inference by calculating the predicted ratings"
   ]
  },
  {
   "cell_type": "code",
   "execution_count": 16,
   "metadata": {},
   "outputs": [],
   "source": [
    "pred = np.matmul(X, W.T) + b + mu"
   ]
  },
  {
   "cell_type": "markdown",
   "metadata": {},
   "source": [
    "Sort the ratings"
   ]
  },
  {
   "cell_type": "code",
   "execution_count": 17,
   "metadata": {},
   "outputs": [],
   "source": [
    "# Extract the predicted ratings for my_ratings\n",
    "sorted_pred = pred[:, 0]\n",
    "\n",
    "# Sort the predicted ratings in ascending order\n",
    "sorted_pred = sorted_pred.argsort()\n",
    "\n",
    "# Create a reversed order view of sorted_pred to get the top-rated movies\n",
    "top_movies = sorted_pred[::-1]"
   ]
  },
  {
   "cell_type": "code",
   "execution_count": 18,
   "metadata": {},
   "outputs": [
    {
     "name": "stdout",
     "output_type": "stream",
     "text": [
      "Shawshank Redemption, The (1994)\n",
      "Godfather, The (1972)\n",
      "Casablanca (1942)\n",
      "Saving Private Ryan (1998)\n",
      "Braveheart (1995)\n",
      "Three Billboards Outside Ebbing, Missouri (2017)\n",
      "Dr. Goldfoot and the Bikini Machine (1965)\n",
      "61* (2001)\n",
      "Thin Line Between Love and Hate, A (1996)\n",
      "When Worlds Collide (1951)\n",
      "Bossa Nova (2000)\n",
      "Dragons: Gift of the Night Fury (2011)\n",
      "English Vinglish (2012)\n",
      "Life Is Beautiful (La Vita è bella) (1997)\n",
      "Kung Fu Panda: Secrets of the Masters (2011)\n"
     ]
    }
   ],
   "source": [
    "num_suggestions = 15\n",
    "\n",
    "i = 0\n",
    "while num_suggestions > 0 and i < len(top_movies):\n",
    "    cur_id = top_movies[i]\n",
    "\n",
    "    if my_ratings[cur_id] == 0:  # This movie has not been rated yet\n",
    "        movie = movies_df.loc[movies_df['movieId'] == cur_id, 'title']\n",
    "        num_suggestions -= 1\n",
    "\n",
    "        print(movie.values[0])\n",
    "\n",
    "    i += 1"
   ]
  }
 ],
 "metadata": {
  "kernelspec": {
   "display_name": "Python 3",
   "language": "python",
   "name": "python3"
  },
  "language_info": {
   "codemirror_mode": {
    "name": "ipython",
    "version": 3
   },
   "file_extension": ".py",
   "mimetype": "text/x-python",
   "name": "python",
   "nbconvert_exporter": "python",
   "pygments_lexer": "ipython3",
   "version": "3.10.12"
  },
  "orig_nbformat": 4
 },
 "nbformat": 4,
 "nbformat_minor": 2
}
