{
 "cells": [
  {
   "cell_type": "markdown",
   "metadata": {},
   "source": [
    "# PyTorch Model"
   ]
  },
  {
   "cell_type": "code",
   "execution_count": 1,
   "metadata": {},
   "outputs": [],
   "source": [
    "import torch\n",
    "import numpy as np\n",
    "from settings import *\n",
    "from utils import load_np_arr"
   ]
  },
  {
   "cell_type": "code",
   "execution_count": 2,
   "metadata": {},
   "outputs": [
    {
     "name": "stdout",
     "output_type": "stream",
     "text": [
      "Using cuda device\n"
     ]
    }
   ],
   "source": [
    "dev = (\n",
    "    \"cuda\"\n",
    "    if torch.cuda.is_available()\n",
    "    else \"mps\"\n",
    "    if torch.backends.mps.is_available()\n",
    "    else \"cpu\"\n",
    ")\n",
    "\n",
    "print(f\"Using {dev} device\")"
   ]
  },
  {
   "cell_type": "markdown",
   "metadata": {},
   "source": [
    "Load the saved data"
   ]
  },
  {
   "cell_type": "code",
   "execution_count": 5,
   "metadata": {},
   "outputs": [],
   "source": [
    "X_m = load_np_arr(X_FILE_NAME)\n",
    "Y = load_np_arr(Y_FILE_NAME)\n",
    "R = load_np_arr(R_FILE_NAME)\n",
    "mu = load_np_arr(MU_FILE_NAME)"
   ]
  },
  {
   "cell_type": "markdown",
   "metadata": {},
   "source": [
    "Shapes information"
   ]
  },
  {
   "cell_type": "code",
   "execution_count": 9,
   "metadata": {},
   "outputs": [
    {
     "name": "stdout",
     "output_type": "stream",
     "text": [
      "Num. genera:  20\n",
      "Num. movies:  9724\n",
      "Num. users:   610\n"
     ]
    }
   ],
   "source": [
    "print('Num. genera: ', X_m.shape[1])\n",
    "print('Num. movies: ', R.shape[0])\n",
    "print('Num. users:  ', R.shape[1])"
   ]
  },
  {
   "cell_type": "markdown",
   "metadata": {},
   "source": [
    "Custom collaborative filtering model"
   ]
  },
  {
   "cell_type": "code",
   "execution_count": null,
   "metadata": {},
   "outputs": [],
   "source": [
    "class CoFil(torch.nn.Module):\n",
    "    def __init__(self, R_shape: tuple, X_m_shape: tuple) -> None:\n",
    "        super().__init__()\n",
    "\n",
    "        self.X = torch.nn.Parameter(\n",
    "            torch.rand((9724, 10), requires_grad=True, device=dev)\n",
    "        )\n",
    "        self.W = torch.nn.Parameter(\n",
    "            torch.rand((610, 10), requires_grad=True, device=dev)\n",
    "        )\n",
    "        self.b = torch.nn.Parameter(\n",
    "            torch.rand((9724, 1), requires_grad=True, device=dev)\n",
    "        )\n",
    "\n",
    "    def forward():\n",
    "        pass\n"
   ]
  },
  {
   "cell_type": "markdown",
   "metadata": {},
   "source": [
    "Data preparation"
   ]
  },
  {
   "cell_type": "code",
   "execution_count": null,
   "metadata": {},
   "outputs": [],
   "source": [
    "from sklearn.model_selection import train_test_split\n",
    "\n",
    "X_train, X_test, Y_train, Y_test = train_test_split(X, Y, test_size=0.4, random_state=42)\n",
    "X_test, X_cv, Y_test, Y_cv = train_test_split(X_test, Y_test, test_size=0.5, random_state=42)"
   ]
  }
 ],
 "metadata": {
  "kernelspec": {
   "display_name": "Python 3",
   "language": "python",
   "name": "python3"
  },
  "language_info": {
   "codemirror_mode": {
    "name": "ipython",
    "version": 3
   },
   "file_extension": ".py",
   "mimetype": "text/x-python",
   "name": "python",
   "nbconvert_exporter": "python",
   "pygments_lexer": "ipython3",
   "version": "3.10.6"
  },
  "orig_nbformat": 4
 },
 "nbformat": 4,
 "nbformat_minor": 2
}
